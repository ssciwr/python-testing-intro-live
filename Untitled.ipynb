{
 "cells": [
  {
   "cell_type": "code",
   "execution_count": 1,
   "id": "50d072a5-7742-4ecb-b277-3ae670d433e7",
   "metadata": {},
   "outputs": [],
   "source": [
    "import ipytest"
   ]
  },
  {
   "cell_type": "code",
   "execution_count": 2,
   "id": "10bf3e33-46d6-4466-b105-33258aeb7a77",
   "metadata": {},
   "outputs": [],
   "source": [
    "ipytest.autoconfig()"
   ]
  },
  {
   "cell_type": "code",
   "execution_count": 6,
   "id": "ed189bb6-602c-4a09-b957-282b8b30b479",
   "metadata": {},
   "outputs": [
    {
     "name": "stdout",
     "output_type": "stream",
     "text": [
      "\u001b[1m======================================= test session starts ========================================\u001b[0m\n",
      "platform linux -- Python 3.12.0, pytest-7.4.2, pluggy-1.3.0\n",
      "rootdir: /home/lkeegan/SSC/python-testing-intro-live\n",
      "plugins: anyio-4.0.0\n",
      "collected 1 item\n",
      "\n",
      "t_0053991b07a64e70bca99af244fc1329.py \u001b[32m.\u001b[0m\u001b[32m                                                      [100%]\u001b[0m\n",
      "\n",
      "\u001b[33m========================================= warnings summary =========================================\u001b[0m\n",
      "t_0053991b07a64e70bca99af244fc1329.py::test_integers\n",
      "t_0053991b07a64e70bca99af244fc1329.py::test_integers\n",
      "t_0053991b07a64e70bca99af244fc1329.py::test_integers\n",
      "  /home/lkeegan/micromamba/envs/python_testing/lib/python3.12/site-packages/jupyter_client/session.py:200: DeprecationWarning: datetime.datetime.utcnow() is deprecated and scheduled for removal in a future version. Use timezone-aware objects to represent datetimes in UTC: datetime.datetime.now(datetime.UTC).\n",
      "    return datetime.utcnow().replace(tzinfo=utc)  # noqa\n",
      "\n",
      "-- Docs: https://docs.pytest.org/en/stable/how-to/capture-warnings.html\n",
      "\u001b[33m================================== \u001b[32m1 passed\u001b[0m, \u001b[33m\u001b[1m3 warnings\u001b[0m\u001b[33m in 0.01s\u001b[0m\u001b[33m ===================================\u001b[0m\n"
     ]
    }
   ],
   "source": [
    "%%ipytest -v\n",
    "def test_integers():\n",
    "    assert 2*2 == 4"
   ]
  },
  {
   "cell_type": "code",
   "execution_count": null,
   "id": "345fde08-3853-4386-8b92-5487155f1cdd",
   "metadata": {},
   "outputs": [],
   "source": []
  }
 ],
 "metadata": {
  "kernelspec": {
   "display_name": "Python 3 (ipykernel)",
   "language": "python",
   "name": "python3"
  },
  "language_info": {
   "codemirror_mode": {
    "name": "ipython",
    "version": 3
   },
   "file_extension": ".py",
   "mimetype": "text/x-python",
   "name": "python",
   "nbconvert_exporter": "python",
   "pygments_lexer": "ipython3",
   "version": "3.12.0"
  }
 },
 "nbformat": 4,
 "nbformat_minor": 5
}
